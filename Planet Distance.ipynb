{
 "cells": [
  {
   "cell_type": "markdown",
   "id": "3d481fcc-8a78-47dd-b6d0-80b03f1ae15d",
   "metadata": {},
   "source": [
    "#### Question 1: What is the distance between Earth an Mars in day 732?"
   ]
  },
  {
   "cell_type": "markdown",
   "id": "f5a09eb6-dafa-4a02-b75d-63afdff40e14",
   "metadata": {},
   "source": [
    "6.52"
   ]
  },
  {
   "cell_type": "markdown",
   "id": "a7122187-3804-431c-9d41-a8dcc5a7dee2",
   "metadata": {},
   "source": [
    "#### Question 2: How does your position() function work?"
   ]
  },
  {
   "cell_type": "markdown",
   "id": "ea18bad9-8564-4727-a1f0-ec0f10ab6b3b",
   "metadata": {},
   "source": [
    "First, I calculate the remainder days after a planet completes its orbit fully (full year length).\n",
    "\n",
    "    *If the days are less than its year length, then the days would be itself.\n",
    "    * However, if the days is greater than its year length, I will calculate the remainder. And use that remainder as offical 'day' value, start orbiting from the beginning. \n",
    "    \n",
    "Then I calculate the angle with this formula. What shown in the code is simplified version. \n",
    "(day/yearLength) * (360/1) * (2*pi/360)\n",
    "\n",
    "    *(day/yearLength): Ratio indicates where the planet is at of the orbit. yearLength is the entire orbit.\n",
    "    *(360/1): Convert to degree. 1 is the entire orbit == 360 degree.\n",
    "    *(2*pi/360): Convert to radians. 360 degree == 2*pi\n",
    " \n",
    "Then I use “sohcahtoa” to calculate x and y values. Formula shown question below."
   ]
  },
  {
   "cell_type": "markdown",
   "id": "282237ad-3500-454f-a282-83fe8cf2b8d6",
   "metadata": {},
   "source": [
    "#### What trigonometry functions did you need to use?"
   ]
  },
  {
   "cell_type": "markdown",
   "id": "e45ada30-5a36-4dd2-af73-ae8c3a239ec1",
   "metadata": {},
   "source": [
    "I used sin, cos and pi. \\\n",
    "sin: Calculate the opposite (y value). sin(angle) = opposite / hypotenuse.\\\n",
    "cos: Calculate the adjacent (x value). cos(angle) = adjacent / hypotenuse. "
   ]
  },
  {
   "cell_type": "markdown",
   "id": "bff22c48-1d0b-4eed-b6db-41293f17e033",
   "metadata": {},
   "source": [
    "#### Question 3: How does your distance() function work?"
   ]
  },
  {
   "cell_type": "markdown",
   "id": "d518b158-0875-4df2-8e8e-797e30a01367",
   "metadata": {},
   "source": [
    "I obtain x and y values of each planet at the given day.\\\n",
    "Calculate the difference of x values (xDiff) and y values (yDiff).\\\n",
    "Using math.square function to calculate the distance. "
   ]
  },
  {
   "cell_type": "markdown",
   "id": "1ec6a1b2-2cbb-4f26-adc8-7fa035d12358",
   "metadata": {},
   "source": [
    "#### Show that you employed top-down design in its implementation."
   ]
  },
  {
   "cell_type": "markdown",
   "id": "c793ed53-5c1c-4d0b-840a-5b8079ed19de",
   "metadata": {},
   "source": [
    "def main() to get user's input\n",
    "    \n",
    "    *User can choose either get the position of a planet at given day (using position()).\n",
    "    *Or get the distance between 2 planets at given day (using distance()). \n",
    "    *IN: planet name, radius, year length, day.\n",
    "    \n",
    "    class Planet to create a planet based on user's input.\n",
    "\n",
    "        *IN: radius, year length, day.\n",
    "        *OUT: x,y = position of the planet on given day. Using def position()\n",
    "    \n",
    "    def distance() returns the distance between two planets on given day.\n",
    "        *Using class Planet to generate two planets.\n",
    "        *IN: planet1, planet2, day.\n",
    "        *OUT: distance between two planet on given day. "
   ]
  },
  {
   "cell_type": "code",
   "execution_count": 1,
   "id": "cb178a20-3041-4585-9c54-99eefb88cabb",
   "metadata": {},
   "outputs": [],
   "source": [
    "import math\n",
    "\n",
    "class Planet:\n",
    "    '''Planet class takes orbital radius and year length of a planet.'''\n",
    "    \n",
    "    def __init__ (self, radius, yearLength):\n",
    "        '''Initialization for Planet class.''' \n",
    "        \n",
    "        self.r = radius\n",
    "        #Instance variable radius of a planet. \n",
    "        self.y = yearLength\n",
    "        #Instance variable year length in days of a planet. \n",
    "        \n",
    "    def position(self, day):\n",
    "        '''Returns position of the planet on given day.'''\n",
    "        \n",
    "        day = day % self.y\n",
    "        #Calculate the remainder days to make sure complete an orbit.\n",
    "        angle = (day/self.y) * 2 * math.pi\n",
    "        #Calculate angle, formula explain above.\n",
    "        \n",
    "        x = self.r * math.cos(angle)\n",
    "        #Calculate adjacent.\n",
    "        y = self.r * math.sin(angle)\n",
    "        #Calculate opposite.\n",
    "        \n",
    "        return x, y"
   ]
  },
  {
   "cell_type": "code",
   "execution_count": 2,
   "id": "bc5cc5ee-f816-45d3-89a7-8ed8e80d5de6",
   "metadata": {},
   "outputs": [],
   "source": [
    "def distance(planet1, planet2, day):\n",
    "    '''Returns the distance between two planets on given day.'''\n",
    "    \n",
    "    x1, y1 = planet1.position(day)\n",
    "    #Coordinates of planet 1 at given day. \n",
    "    x2, y2 = planet2.position(day)\n",
    "    #Coordinates of planet 2 at given day. \n",
    "    \n",
    "    xDiff = x2 - x1\n",
    "    yDiff = y2 - y1\n",
    "    #Calculate the difference between 2 coordinates. \n",
    "    \n",
    "    planetDistance = math.sqrt(xDiff**2 + yDiff**2)\n",
    "    #Calculate the distance between 2 planets.\n",
    "    \n",
    "    return planetDistance"
   ]
  },
  {
   "cell_type": "code",
   "execution_count": 3,
   "id": "c88e5a29-101b-4ece-853b-68b24b8a920e",
   "metadata": {},
   "outputs": [],
   "source": [
    "def main():\n",
    "    '''Main function connecting other functions and Planet class.'''\n",
    "    \n",
    "    while True:\n",
    "        choice = input(\"Enter 'c' to generate a planet and return the position, 'd' to calculate distance between two planets, or 'q' to quit: \")\n",
    "        #Asking user to choose options.\n",
    "        \n",
    "        if choice == 'c':\n",
    "        #User choose to get the position of a planet at given day. \n",
    "        \n",
    "            planetName = input(\"Please enter Planet name: \")\n",
    "            radius, yearLength = eval(input(\"Please enter radius and year length: \"))\n",
    "            day = int(input(\"Please enter the day: \"))\n",
    "            \n",
    "            planet = Planet(radius, yearLength)\n",
    "            #Using Planet class to generate a planet. \n",
    "            coordinates = planet.position(day)\n",
    "            #Get the coordinates.\n",
    "            \n",
    "            print(f'''The position of {planetName} on day {day}:{coordinates}''')\n",
    "            \n",
    "        elif choice == 'd':\n",
    "        #User choose to get the distance of two planets at given day.\n",
    "        \n",
    "            planetName_A = input(\"Please enter 1st Planet name: \")\n",
    "            radius_A, yearLength_A = eval(input(\"Please enter radius and year length of the 1st planet: \"))\n",
    "            planetName_B = input(\"Please enter 2nd Planet name:: \")\n",
    "            radius_B, yearLength_B = eval(input(\"Please enter radius and year length of the 2nd planet: \"))\n",
    "            #Get information planet A and B.\n",
    "            \n",
    "            day = int(input(\"Please enter the day to calculate distance: \"))\n",
    "            planet_A = Planet(radius_A, yearLength_A)\n",
    "            planet_B = Planet(radius_B, yearLength_B)\n",
    "            #Using Planet class generate planets A and B\n",
    "            \n",
    "            planetDistance = distance(planet_A, planet_B, day)\n",
    "            #Calculate the distance between two planets. \n",
    "            \n",
    "            print(f'''The distance between {planetName_A} and {planetName_B} on day {day} is {planetDistance}.''')\n",
    "            \n",
    "        elif choice == 'q':\n",
    "        #User choose to quit the program.\n",
    "            break\n",
    "        \n",
    "        else:\n",
    "        #User choose wrong option, ask to choose again.\n",
    "            print(\"Invalid choice. Please try again.\")"
   ]
  },
  {
   "cell_type": "code",
   "execution_count": 14,
   "id": "615debdc-0399-4408-943b-e6ab29847e31",
   "metadata": {},
   "outputs": [
    {
     "name": "stdin",
     "output_type": "stream",
     "text": [
      "Enter 'c' to generate a planet and return the position, 'd' to calculate distance between two planets, or 'q' to quit:  c\n",
      "Please enter Planet name:  Mercury\n",
      "Please enter radius and year length:  3.5, 88\n",
      "Please enter the day:  33\n"
     ]
    },
    {
     "name": "stdout",
     "output_type": "stream",
     "text": [
      "The position of Mercury on day 33:(-2.474873734152916, 2.4748737341529163)\n"
     ]
    },
    {
     "name": "stdin",
     "output_type": "stream",
     "text": [
      "Enter 'c' to generate a planet and return the position, 'd' to calculate distance between two planets, or 'q' to quit:  q\n"
     ]
    }
   ],
   "source": [
    "main()"
   ]
  },
  {
   "cell_type": "code",
   "execution_count": 15,
   "id": "c4e10dbc-0a81-489d-a61e-4df44022fcb2",
   "metadata": {},
   "outputs": [
    {
     "name": "stdin",
     "output_type": "stream",
     "text": [
      "Enter 'c' to generate a planet and return the position, 'd' to calculate distance between two planets, or 'q' to quit:  d\n",
      "Please enter 1st Planet name:  Earth\n",
      "Please enter radius and year length of the 1st planet:  9.3, 365\n",
      "Please enter 2nd Planet name::  Mars\n",
      "Please enter radius and year length of the 2nd planet:  14.2, 687\n",
      "Please enter the day to calculate distance:  732\n"
     ]
    },
    {
     "name": "stdout",
     "output_type": "stream",
     "text": [
      "The distance between Earth and Mars on day 732 is 6.524670399366512.\n"
     ]
    },
    {
     "name": "stdin",
     "output_type": "stream",
     "text": [
      "Enter 'c' to generate a planet and return the position, 'd' to calculate distance between two planets, or 'q' to quit:  q\n"
     ]
    }
   ],
   "source": [
    "main()"
   ]
  },
  {
   "cell_type": "code",
   "execution_count": 12,
   "id": "a8fee1d4-3784-43b9-9fce-0501da1b21fe",
   "metadata": {},
   "outputs": [
    {
     "data": {
      "text/plain": [
       "(3.5, 0.0)"
      ]
     },
     "execution_count": 12,
     "metadata": {},
     "output_type": "execute_result"
    }
   ],
   "source": [
    "mercury = Planet(3.5, 88)\n",
    "mercury.position(0)"
   ]
  },
  {
   "cell_type": "code",
   "execution_count": 13,
   "id": "41f8069a-1512-4525-83b3-35ec19584922",
   "metadata": {},
   "outputs": [
    {
     "name": "stdout",
     "output_type": "stream",
     "text": [
      "6.524670399366512\n"
     ]
    }
   ],
   "source": [
    "earth = Planet(9.3, 365)\n",
    "mars = Planet(14.2, 687)\n",
    "d = distance(earth, mars, 732)\n",
    "print(d)"
   ]
  }
 ],
 "metadata": {
  "kernelspec": {
   "display_name": "Python 3 (ipykernel)",
   "language": "python",
   "name": "python3"
  },
  "language_info": {
   "codemirror_mode": {
    "name": "ipython",
    "version": 3
   },
   "file_extension": ".py",
   "mimetype": "text/x-python",
   "name": "python",
   "nbconvert_exporter": "python",
   "pygments_lexer": "ipython3",
   "version": "3.9.13"
  }
 },
 "nbformat": 4,
 "nbformat_minor": 5
}
